{
 "cells": [
  {
   "cell_type": "code",
   "execution_count": 7,
   "id": "695a0bc5",
   "metadata": {},
   "outputs": [],
   "source": [
    "a = {\n",
    "    \"name\":\"Rishika\",\n",
    "    \"marks\": 90,\n",
    "    \"subjects\":[\"eng\",\"math\"],\n",
    "    \"friends\":{\n",
    "        \"riddhi\":\"sister\"\n",
    "    }\n",
    "}\n"
   ]
  },
  {
   "cell_type": "code",
   "execution_count": 8,
   "id": "f7556ac9",
   "metadata": {},
   "outputs": [
    {
     "data": {
      "text/plain": [
       "{'riddhi': 'sister'}"
      ]
     },
     "execution_count": 8,
     "metadata": {},
     "output_type": "execute_result"
    }
   ],
   "source": [
    "a[\"friends\"]"
   ]
  },
  {
   "cell_type": "code",
   "execution_count": 9,
   "id": "55f4b751",
   "metadata": {},
   "outputs": [
    {
     "name": "stdout",
     "output_type": "stream",
     "text": [
      "name\n",
      "marks\n",
      "subjects\n",
      "friends\n"
     ]
    }
   ],
   "source": [
    "for key in a:\n",
    "    print(key)"
   ]
  },
  {
   "cell_type": "code",
   "execution_count": 11,
   "id": "151c5370",
   "metadata": {},
   "outputs": [
    {
     "name": "stdout",
     "output_type": "stream",
     "text": [
      "('name', 'Rishika')\n",
      "('marks', 90)\n",
      "('subjects', ['eng', 'math'])\n",
      "('friends', {'riddhi': 'sister'})\n"
     ]
    }
   ],
   "source": [
    "#items() method in dictionaries creates a tuples of all the items in the dictionary\n",
    "for item in a.items():\n",
    "    print(item)"
   ]
  },
  {
   "cell_type": "code",
   "execution_count": 12,
   "id": "2be158d4",
   "metadata": {},
   "outputs": [
    {
     "name": "stdout",
     "output_type": "stream",
     "text": [
      "name\n",
      "marks\n",
      "subjects\n",
      "friends\n"
     ]
    }
   ],
   "source": [
    "#returns all the keys in the dictionary\n",
    "for key in a.keys():\n",
    "    print(key)"
   ]
  },
  {
   "cell_type": "code",
   "execution_count": 13,
   "id": "dcb48a41",
   "metadata": {},
   "outputs": [
    {
     "name": "stdout",
     "output_type": "stream",
     "text": [
      "Rishika\n",
      "90\n",
      "['eng', 'math']\n",
      "{'riddhi': 'sister'}\n"
     ]
    }
   ],
   "source": [
    "#ignores the keys and returns the value\n",
    "for value in a.values():\n",
    "    print(value)"
   ]
  },
  {
   "cell_type": "code",
   "execution_count": 14,
   "id": "81942163",
   "metadata": {},
   "outputs": [
    {
     "data": {
      "text/plain": [
       "'Rishika'"
      ]
     },
     "execution_count": 14,
     "metadata": {},
     "output_type": "execute_result"
    }
   ],
   "source": [
    "a.get(\"name\")"
   ]
  },
  {
   "cell_type": "code",
   "execution_count": 15,
   "id": "ce3ec698",
   "metadata": {},
   "outputs": [],
   "source": [
    "a.get(\"name1\")"
   ]
  },
  {
   "cell_type": "code",
   "execution_count": 16,
   "id": "8be92afe",
   "metadata": {},
   "outputs": [],
   "source": [
    "#So basically , get() is a safe method, it doesnt throw an error if the key is not present\n"
   ]
  },
  {
   "cell_type": "code",
   "execution_count": 17,
   "id": "9e0987b1",
   "metadata": {},
   "outputs": [],
   "source": [
    "a.clear()"
   ]
  },
  {
   "cell_type": "code",
   "execution_count": 18,
   "id": "a2dffc8a",
   "metadata": {},
   "outputs": [
    {
     "data": {
      "text/plain": [
       "{}"
      ]
     },
     "execution_count": 18,
     "metadata": {},
     "output_type": "execute_result"
    }
   ],
   "source": [
    "a"
   ]
  },
  {
   "cell_type": "code",
   "execution_count": 19,
   "id": "d66835c6",
   "metadata": {},
   "outputs": [],
   "source": [
    "#list of dictionaries"
   ]
  },
  {
   "cell_type": "code",
   "execution_count": 20,
   "id": "5edc4b0b",
   "metadata": {},
   "outputs": [],
   "source": [
    "students=[]"
   ]
  },
  {
   "cell_type": "code",
   "execution_count": 21,
   "id": "bf7bab82",
   "metadata": {},
   "outputs": [
    {
     "name": "stdout",
     "output_type": "stream",
     "text": [
      "2\n"
     ]
    }
   ],
   "source": [
    "n=int(input())"
   ]
  },
  {
   "cell_type": "code",
   "execution_count": 23,
   "id": "41dfcbac",
   "metadata": {},
   "outputs": [
    {
     "name": "stdout",
     "output_type": "stream",
     "text": [
      "1\n",
      "Rishika\n",
      "2\n",
      "Riddhi\n"
     ]
    }
   ],
   "source": [
    "for i in range(n):\n",
    "    roll = int(input())\n",
    "    name = input()\n",
    "    students.append({\n",
    "        \"roll-no\":roll,\n",
    "        \"name\":name\n",
    "    })"
   ]
  },
  {
   "cell_type": "code",
   "execution_count": 24,
   "id": "9c659af2",
   "metadata": {},
   "outputs": [
    {
     "data": {
      "text/plain": [
       "[{'roll-no': 1, 'name': 'Rishika'}, {'roll-no': 2, 'name': 'Riddhi'}]"
      ]
     },
     "execution_count": 24,
     "metadata": {},
     "output_type": "execute_result"
    }
   ],
   "source": [
    "students"
   ]
  },
  {
   "cell_type": "code",
   "execution_count": null,
   "id": "84946546",
   "metadata": {},
   "outputs": [],
   "source": []
  }
 ],
 "metadata": {
  "kernelspec": {
   "display_name": "Python 3",
   "language": "python",
   "name": "python3"
  },
  "language_info": {
   "codemirror_mode": {
    "name": "ipython",
    "version": 3
   },
   "file_extension": ".py",
   "mimetype": "text/x-python",
   "name": "python",
   "nbconvert_exporter": "python",
   "pygments_lexer": "ipython3",
   "version": "3.8.5"
  }
 },
 "nbformat": 4,
 "nbformat_minor": 5
}
